{
 "cells": [
  {
   "cell_type": "code",
   "execution_count": 72,
   "metadata": {},
   "outputs": [],
   "source": [
    "class SymbolTable:\n",
    "    def __init__(self):\n",
    "        self.MAX = 15\n",
    "        self.arr = [[] for i in range(self.MAX)]\n",
    "\n",
    "    def get_hash(self, key):\n",
    "        hash = 0\n",
    "        for char in key:\n",
    "            hash += ord(char) + 23\n",
    "        return hash % self.MAX\n",
    "\n",
    "    def add(self, key, val):\n",
    "        hash = self.get_hash(key)\n",
    "        found = False\n",
    "        for idx, element in enumerate(self.arr[hash]):\n",
    "            if len(element)==2 and element[0]==key:\n",
    "                self.arr[hash][idx] =  (key,val)\n",
    "                found = True\n",
    "                break\n",
    "        if not found:\n",
    "            self.arr[hash].append((key, val))\n",
    "    \n",
    "    def get(self, key):\n",
    "        hash = self.get_hash(key)\n",
    "        for element in self.arr[hash]:\n",
    "            if element[0] == key:\n",
    "                return f'({key}) symbol already exists in the symbol-table.'\n",
    "        return f'({key}) symbol does not exists in the symbol-table.'\n",
    "    \n",
    "    def delete(self, key):\n",
    "        hash = self.get_hash(key)\n",
    "        for index, element in enumerate(self.arr[hash]):\n",
    "            if element[0] == key:\n",
    "                del self.arr[hash][index]\n",
    "    \n",
    "    def show(self):\n",
    "        for index, ls in enumerate(self.arr):\n",
    "            if ls == []:\n",
    "                ls = \"\"\n",
    "            else:\n",
    "                st = f\"\"\n",
    "                for element in ls:\n",
    "                    comma = ','\n",
    "                    if element == ls[-1]:\n",
    "                        comma = ''\n",
    "                    st = st + f' {element[0]} ( {element[1]} ){comma}'\n",
    "                ls = st\n",
    "            print(f'{index}: {ls}')\n",
    "        \n"
   ]
  },
  {
   "cell_type": "code",
   "execution_count": 73,
   "metadata": {},
   "outputs": [
    {
     "name": "stdout",
     "output_type": "stream",
     "text": [
      "0: \n",
      "1: \n",
      "2: \n",
      "3: \n",
      "4: \n",
      "5: \n",
      "6: \n",
      "7: \n",
      "8:  x ( INTEGER )\n",
      "9: \n",
      "10: \n",
      "11: \n",
      "12: \n",
      "13:  } ( BRACES )\n",
      "14:  funct ( FUNCTION )\n"
     ]
    }
   ],
   "source": [
    "s = SymbolTable()\n",
    "s.add(\"x\", \"INTEGER\")\n",
    "s.add(\"funct\", \"FUNCTION\")\n",
    "s.add(\"}\", \"BRACES\")\n",
    "s.show()"
   ]
  },
  {
   "cell_type": "code",
   "execution_count": 76,
   "metadata": {},
   "outputs": [
    {
     "data": {
      "text/plain": [
       "'(}as) symbol does not exists in the symbol-table.'"
      ]
     },
     "execution_count": 76,
     "metadata": {},
     "output_type": "execute_result"
    }
   ],
   "source": [
    "s.get(\"}as\")"
   ]
  },
  {
   "cell_type": "code",
   "execution_count": null,
   "metadata": {},
   "outputs": [],
   "source": [
    "s.delete(\"}\")\n",
    "s.show()"
   ]
  }
 ],
 "metadata": {
  "interpreter": {
   "hash": "aee8b7b246df8f9039afb4144a1f6fd8d2ca17a180786b69acc140d282b71a49"
  },
  "kernelspec": {
   "display_name": "Python 3.10.2 64-bit",
   "language": "python",
   "name": "python3"
  },
  "language_info": {
   "codemirror_mode": {
    "name": "ipython",
    "version": 3
   },
   "file_extension": ".py",
   "mimetype": "text/x-python",
   "name": "python",
   "nbconvert_exporter": "python",
   "pygments_lexer": "ipython3",
   "version": "3.10.2"
  },
  "orig_nbformat": 4
 },
 "nbformat": 4,
 "nbformat_minor": 2
}
