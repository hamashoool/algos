{
 "cells": [
  {
   "cell_type": "markdown",
   "metadata": {},
   "source": [
    "## Installing Packages"
   ]
  },
  {
   "cell_type": "code",
   "execution_count": null,
   "metadata": {},
   "outputs": [],
   "source": [
    "\n",
    "%pip install --upgrade pip"
   ]
  },
  {
   "cell_type": "code",
   "execution_count": 71,
   "metadata": {},
   "outputs": [],
   "source": [
    "class BstNode:\n",
    "\n",
    "    def __init__(self, key):\n",
    "        self.key = key\n",
    "        self.right = None\n",
    "        self.left = None\n",
    "\n",
    "    def insert(self, key):                  # [1, 3, 9, 7, 5, 26]\n",
    "        if self.key == key:\n",
    "            return\n",
    "        elif self.left is None:\n",
    "            self.left = BstNode(key)\n",
    "        else:\n",
    "            self.left.insert(key)\n",
    "        if self.right is None:\n",
    "            self.right = BstNode(key)\n",
    "        else:\n",
    "            self.right.insert(key)\n",
    "\n",
    "    def display(self):\n",
    "        lines, *_ = self._display_aux()\n",
    "        for line in lines:\n",
    "            print(line)\n",
    "\n",
    "    def _display_aux(self):\n",
    "        \"\"\"Returns list of strings, width, height, and horizontal coordinate of the root.\"\"\"\n",
    "        # No child.\n",
    "        if self.right is None and self.left is None:\n",
    "            line = '%s' % self.key\n",
    "            width = len(line)\n",
    "            height = 1\n",
    "            middle = width // 2\n",
    "            return [line], width, height, middle\n",
    "\n",
    "        # Only left child.\n",
    "        if self.right is None:\n",
    "            lines, n, p, x = self.left._display_aux()\n",
    "            s = '%s' % self.key\n",
    "            u = len(s)\n",
    "            first_line = (x + 1) * ' ' + (n - x - 1) * '_' + s\n",
    "            second_line = x * ' ' + '/' + (n - x - 1 + u) * ' '\n",
    "            shifted_lines = [line + u * ' ' for line in lines]\n",
    "            return [first_line, second_line] + shifted_lines, n + u, p + 2, n + u // 2\n",
    "\n",
    "        # Only right child.\n",
    "        if self.left is None:\n",
    "            lines, n, p, x = self.right._display_aux()\n",
    "            s = '%s' % self.key\n",
    "            u = len(s)\n",
    "            first_line = s + x * '_' + (n - x) * ' '\n",
    "            second_line = (u + x) * ' ' + '\\\\' + (n - x - 1) * ' '\n",
    "            shifted_lines = [u * ' ' + line for line in lines]\n",
    "            return [first_line, second_line] + shifted_lines, n + u, p + 2, u // 2\n",
    "\n",
    "        # Two children.\n",
    "        left, n, p, x = self.left._display_aux()\n",
    "        right, m, q, y = self.right._display_aux()\n",
    "        s = '%s' % self.key\n",
    "        u = len(s)\n",
    "        first_line = (x + 1) * ' ' + (n - x - 1) * '_' + s + y * '_' + (m - y) * ' '\n",
    "        second_line = x * ' ' + '/' + (n - x - 1 + u + y) * ' ' + '\\\\' + (m - y - 1) * ' '\n",
    "        if p < q:\n",
    "            left += [n * ' '] * (q - p)\n",
    "        elif q < p:\n",
    "            right += [m * ' '] * (p - q)\n",
    "        zipped_lines = zip(left, right)\n",
    "        lines = [first_line, second_line] + [a + u * ' ' + b for a, b in zipped_lines]\n",
    "        return lines, n + m + u, max(p, q) + 2, n + u // 2"
   ]
  },
  {
   "cell_type": "markdown",
   "metadata": {},
   "source": [
    "### Binary Heaps"
   ]
  },
  {
   "cell_type": "markdown",
   "metadata": {},
   "source": [
    "Parent Index = (index - 1) / 2\n",
    "\n",
    "Left child Index = 2 * index + 1\n",
    "\n",
    "Right Child Index = 2 * index + 2"
   ]
  },
  {
   "cell_type": "code",
   "execution_count": 99,
   "metadata": {},
   "outputs": [],
   "source": [
    "class MinHeap:\n",
    "    def __init__ (self):\n",
    "        self.storage = [] \n",
    "        self.size = 0\n",
    "    \n",
    "    def getParentIndex(self, index):\n",
    "        return (index - 1) // 2\n",
    "    \n",
    "    def getLeftChildIndex(self, index):\n",
    "        return 2 * index + 1\n",
    "\n",
    "    def getRightChildIndex(self, index):\n",
    "        return 2 * index + 2\n",
    "    \n",
    "    def hasParent(self, index):\n",
    "        return self.getParentIndex(index) >= 0\n",
    "    \n",
    "    def hasLeftChild(self, index):\n",
    "        return self.getLeftChildIndex(index) < self.size\n",
    "\n",
    "    def hasRightChild(self, index):\n",
    "        return self.getRightChildIndex(index) < self.size\n",
    "    \n",
    "    def parent(self, index):\n",
    "        if self.storage:\n",
    "            return self.storage[self.getParentIndex(index)]\n",
    "        else:\n",
    "            return 'Storage is empty'\n",
    "    \n",
    "    def leftChild(self, index):\n",
    "        return self.storage[self.getLeftChildIndex(index)]\n",
    "    \n",
    "    def rightChild(self, index):\n",
    "        return self.storage[self.getRightChildIndex(index)]\n",
    "    \n",
    "    def swap(self, index1, index2):\n",
    "        self.storage[index1], self.storage[index2] = self.storage[index2], self.storage[index1]\n",
    "    \n",
    "    def insert(self, data):\n",
    "        self.storage.append(data)\n",
    "        self.size += 1\n",
    "        self.heapifyUp(self.size - 1)\n",
    "    \n",
    "    def heapifyUp(self, index):\n",
    "        if self.hasParent(index) and self.parent(index) > self.storage[index]:\n",
    "            self.swap(self.getParentIndex(index), index)\n",
    "            self.heapifyUp(self.getParentIndex(index))\n",
    "    \n",
    "    def removeMin(self):\n",
    "        if self.size == 0:\n",
    "            raise ValueError('Heap is Empty')\n",
    "        data = self.storage[0]\n",
    "        self.storage[0] = self.storage[self.size - 1]\n",
    "        self.storage[self.size - 1] = 0\n",
    "        self.size -= 1\n",
    "        self.heapifyDown(0)\n",
    "        return data\n",
    "    \n",
    "    def heapifyDown(self, index):\n",
    "        smallest = index\n",
    "        if self.hasLeftChild(index) and self.storage[smallest] > self.leftChild(index):\n",
    "            smallest = self.getLeftChildIndex(index)\n",
    "        if self.hasRightChild(index) and self.storage[smallest] > self.rightChild(index):\n",
    "            smallest = self.getRightChildIndex(index)\n",
    "        if smallest != index:\n",
    "            self.swap(index, smallest)\n",
    "            self.heapifyDown(smallest)\n",
    "    \n",
    "    def data(self):\n",
    "        return print(self.storage)\n"
   ]
  },
  {
   "cell_type": "code",
   "execution_count": 105,
   "metadata": {},
   "outputs": [
    {
     "name": "stdout",
     "output_type": "stream",
     "text": [
      "[1, 3, 1, 7, 5, 9]\n",
      "[3, 5, 9, 7, 0, 0]\n",
      "[0, 3, 0, 7, 5, 9, 100, 2]\n"
     ]
    }
   ],
   "source": [
    "import random\n",
    "\n",
    "heap = MinHeap()\n",
    "heap.insert(5)\n",
    "heap.insert(7)\n",
    "heap.insert(9)\n",
    "heap.insert(1)\n",
    "heap.insert(3)\n",
    "heap.insert(1)\n",
    "# heap.insert(26)\n",
    "\n",
    "heap.data()\n",
    "heap.removeMin()\n",
    "heap.removeMin()\n",
    "heap.data()\n",
    "heap.insert(100)\n",
    "heap.insert(2)\n",
    "heap.data()\n"
   ]
  },
  {
   "cell_type": "code",
   "execution_count": 83,
   "metadata": {},
   "outputs": [
    {
     "data": {
      "text/plain": [
       "1"
      ]
     },
     "execution_count": 83,
     "metadata": {},
     "output_type": "execute_result"
    }
   ],
   "source": [
    "heap.getLeftChildIndex(0)"
   ]
  },
  {
   "cell_type": "code",
   "execution_count": 127,
   "metadata": {},
   "outputs": [
    {
     "data": {
      "text/plain": [
       "1"
      ]
     },
     "execution_count": 127,
     "metadata": {},
     "output_type": "execute_result"
    }
   ],
   "source": [
    "h = MinHeap()\n",
    "# h.parent(0)\n",
    "# h.insert(3)\n",
    "# h.insert(9)\n",
    "h.insert(1)\n",
    "h.parent(2)\n",
    "# h.data()"
   ]
  }
 ],
 "metadata": {
  "interpreter": {
   "hash": "aee8b7b246df8f9039afb4144a1f6fd8d2ca17a180786b69acc140d282b71a49"
  },
  "kernelspec": {
   "display_name": "Python 3.10.2 64-bit",
   "language": "python",
   "name": "python3"
  },
  "language_info": {
   "codemirror_mode": {
    "name": "ipython",
    "version": 3
   },
   "file_extension": ".py",
   "mimetype": "text/x-python",
   "name": "python",
   "nbconvert_exporter": "python",
   "pygments_lexer": "ipython3",
   "version": "3.10.2"
  },
  "orig_nbformat": 4
 },
 "nbformat": 4,
 "nbformat_minor": 2
}
